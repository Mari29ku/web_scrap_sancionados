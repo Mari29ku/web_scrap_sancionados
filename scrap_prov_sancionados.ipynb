{
 "cells": [
  {
   "cell_type": "markdown",
   "id": "e7c7583c-2c39-4247-b802-18434bfad6d3",
   "metadata": {},
   "source": [
    "# Script para extraer información del Directorio de Proveedores y Contratistas Sancionados.\n",
    "\n",
    "Directorio de Licitantes, Proveedores y Contratistas sancionados con el impedimento para presentar propuestas o celebrar contratos con las dependencias, entidades de la Administración Pública Federal y de los Gobiernos de los Estados.\n",
    "\n",
    "Ultima fecha de actualización:03/Marzo/2025"
   ]
  },
  {
   "cell_type": "code",
   "execution_count": 22,
   "id": "cda07503-8b8a-4135-bfa7-2278237cab71",
   "metadata": {},
   "outputs": [],
   "source": [
    "import requests\n",
    "import json\n",
    "import pandas as pd\n",
    "\n",
    "url = 'https://servicios-estrategico.funcionpublica.gob.mx/particularesSancionadosPro'\n",
    "\n",
    "# Modificamos el payload eliminando el filtro de numero_expediente y rfc para extraer todosblos expedientes,\n",
    "#si se desea un expediente en particular se agrega siguiendo la sintaxis ---->  filtros: {numero_expediente: \"expediente que se busca\", rfc: \"rfc que se busca\"}\n",
    "payload = {\n",
    "    \"operationName\": \"getExpediente\",\n",
    "    \"variables\": {\n",
    "        \"filtros\": {}  # Aquí vaciamos el filtro para que devuelva todos los expedientes\n",
    "    },\n",
    "    \"query\": \"\"\"\n",
    "    query getExpediente($filtros: FiltrosInput!) {\n",
    "        results(filtros: $filtros) {\n",
    "            numero_expediente\n",
    "            numero_procedimiento_adm\n",
    "            numexpediente_corto\n",
    "            numprocedimiento_corto\n",
    "            rfc\n",
    "            nombre_razon_social\n",
    "            institucion_dependencia {\n",
    "                nombre\n",
    "            }\n",
    "            fecha_notificacion\n",
    "            multa {\n",
    "                monto\n",
    "                monto_cf\n",
    "            }\n",
    "            plazo {\n",
    "                fecha_inicial\n",
    "                fecha_final\n",
    "                plazo_inha\n",
    "            }\n",
    "            observaciones\n",
    "            objeto_social\n",
    "            leyes_infringidas\n",
    "            causa_motivo_hechos\n",
    "            autoridad_sancionadora\n",
    "            fecha_dof\n",
    "            responsable {\n",
    "                nombres_resp\n",
    "                primer_apellido_resp\n",
    "                segundo_apellido_resp\n",
    "                cargo_resp\n",
    "                telefono_resp\n",
    "                email_resp\n",
    "            }\n",
    "            telefono\n",
    "        }\n",
    "    }\n",
    "    \"\"\"\n",
    "}\n",
    "\n",
    "response = requests.post(url, json=payload)\n",
    "data = response.json()\n",
    "\n",
    "# Imprimir los resultados en formato JSON\n",
    "#with open('respuesta_expedientes.json', 'w') as f:\n",
    "  #  json.dump(data, f, indent=4)\n"
   ]
  },
  {
   "cell_type": "markdown",
   "id": "cfebc189-5596-4017-aac0-29ac98ce38e4",
   "metadata": {},
   "source": [
    "Se desea obtener la información en formato estructurado"
   ]
  },
  {
   "cell_type": "code",
   "execution_count": 39,
   "id": "c28f447c-798b-46d3-bad0-94b49bf45714",
   "metadata": {},
   "outputs": [
    {
     "name": "stdout",
     "output_type": "stream",
     "text": [
      "  numero_expediente numero_procedimiento_adm numexpediente_corto  \\\n",
      "0    090850001/2024        09085PA-0007/2024           0001/2024   \n",
      "1    000070021/2022        00007PA-0021/2022           0021/2022   \n",
      "2    006410117/2023        00641PA-0045/2023           0117/2023   \n",
      "\n",
      "  numprocedimiento_corto            rfc  \\\n",
      "0           PA-0007/2024  LOLD860221ND2   \n",
      "1           PA-0021/2022   CPU150813UE7   \n",
      "2           PA-0045/2023   SSS160921JC6   \n",
      "\n",
      "                          nombre_razon_social fecha_notificacion  \\\n",
      "0                    DANIEL GASPAR LOPEZ LANZ         2024-12-17   \n",
      "1          COMERCIALIZADORA PUAN S.A. DE C.V.         2024-07-16   \n",
      "2  SYS SUMINISTROS Y SOLUCIONES, S.A. DE C.V.         2025-02-13   \n",
      "\n",
      "                                       observaciones objeto_social  \\\n",
      "0  LA SANCIÓN SE ENCUENTRA SUBSISTENTE, NO HA INT...          None   \n",
      "1  SE INHABILITA POR EL TERMINO DE 7 MESES Y UNA ...          None   \n",
      "2                       YA SE NOTIFICO LA RESOLUCION          None   \n",
      "\n",
      "                                   leyes_infringidas  ...  \\\n",
      "0  LEY DE ADQUISICIONES, ARRENDAMIENTOS Y SERVICI...  ...   \n",
      "1  LEY DE ADQUISICIONES, ARRENDAMIENTOS Y SERVICI...  ...   \n",
      "2  LEY DE ADQUISICIONES, ARRENDAMIENTOS Y SERVICI...  ...   \n",
      "\n",
      "            multa_monto_cf plazo_fecha_inicial plazo_fecha_final  \\\n",
      "0               912,240.00          2025-01-25        2026-10-25   \n",
      "1               625,959.75          2023-12-01        2024-07-01   \n",
      "2                27,782.20                None              None   \n",
      "\n",
      "  plazo_plazo_inha responsable_nombres_resp responsable_primer_apellido_resp  \\\n",
      "0   1 año, 9 meses           Rogelio Arturo                            Aviña   \n",
      "1          7 meses            CARLOS ARTURO                         PANCARDO   \n",
      "2             None                  ALBERTO                          MOCIÑOZ   \n",
      "\n",
      "  responsable_segundo_apellido_resp                 responsable_cargo_resp  \\\n",
      "0                          Martínez  TITULAR DEL ÓRGANO INTERNO DE CONTROL   \n",
      "1                          ESCUDERO  TITULAR DEL ÓRGANO INTERNO DE CONTROL   \n",
      "2                         GUTIERREZ  TITULAR DEL AREA DE RESPONSABILIDADES   \n",
      "\n",
      "  responsable_telefono_resp          responsable_email_resp  \n",
      "0       5551331000 ext 1025               avinam@asa.gob.mx  \n",
      "1                      None  inspcont_ar_resp@sedena.gob.mx  \n",
      "2                      None     alberto.mocinoz@imss.gob.mx  \n",
      "\n",
      "[3 rows x 26 columns]\n"
     ]
    }
   ],
   "source": [
    "# Extraer los resultados de la respuesta\n",
    "results = data.get('data', {}).get('results', [])\n",
    "\n",
    "# Si la clave 'results' existe, la convertimos a un DataFrame\n",
    "if results:\n",
    "    # Crear un DataFrame a partir de la lista de resultados\n",
    "    df = pd.json_normalize(results, sep='_')\n",
    "\n",
    "    # Mostrar el DataFrame\n",
    "    print(df.head(3))  # Mostrar las primeras filas para ver cómo luce\n",
    "else:\n",
    "    print(\"No se encontraron expedientes.\")"
   ]
  },
  {
   "cell_type": "markdown",
   "id": "aefd5127-a16d-47a7-8b50-5e2264e5cfbc",
   "metadata": {},
   "source": [
    "Se guarda en un archivo excel"
   ]
  },
  {
   "cell_type": "code",
   "execution_count": 49,
   "id": "ea847cd4-8904-4a28-b470-56c1a642cec6",
   "metadata": {},
   "outputs": [],
   "source": [
    "df.to_excel('prov_sancionados_contratistas.xlsx', index=False, engine='openpyxl')"
   ]
  }
 ],
 "metadata": {
  "kernelspec": {
   "display_name": "Python 3 (ipykernel)",
   "language": "python",
   "name": "python3"
  },
  "language_info": {
   "codemirror_mode": {
    "name": "ipython",
    "version": 3
   },
   "file_extension": ".py",
   "mimetype": "text/x-python",
   "name": "python",
   "nbconvert_exporter": "python",
   "pygments_lexer": "ipython3",
   "version": "3.12.4"
  }
 },
 "nbformat": 4,
 "nbformat_minor": 5
}
